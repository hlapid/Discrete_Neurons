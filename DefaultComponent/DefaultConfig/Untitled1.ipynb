{
 "cells": [
  {
   "cell_type": "code",
   "execution_count": 22,
   "metadata": {
    "collapsed": false
   },
   "outputs": [],
   "source": [
    "from __future__ import print_function\n",
    "from IPython.html.widgets import interact, interactive, fixed\n",
    "from IPython.html import widgets\n",
    "import pandas as pd\n",
    "\n",
    "GLOBAL_PARAMSFILE = 'C:\\Users\\hlapid\\Desktop\\CSVFiles\\\\params.csv'"
   ]
  },
  {
   "cell_type": "code",
   "execution_count": 23,
   "metadata": {
    "collapsed": false
   },
   "outputs": [
    {
     "data": {
      "text/html": [
       "<div>\n",
       "<table border=\"1\" class=\"dataframe\">\n",
       "  <thead>\n",
       "    <tr style=\"text-align: right;\">\n",
       "      <th></th>\n",
       "      <th>value</th>\n",
       "      <th>description</th>\n",
       "    </tr>\n",
       "  </thead>\n",
       "  <tbody>\n",
       "    <tr>\n",
       "      <th>defaultActivation</th>\n",
       "      <td>0.00</td>\n",
       "      <td>activation value upon creation</td>\n",
       "    </tr>\n",
       "    <tr>\n",
       "      <th>decayTime</th>\n",
       "      <td>20.00</td>\n",
       "      <td>The \"pulse width\" - the time the neuron is up</td>\n",
       "    </tr>\n",
       "    <tr>\n",
       "      <th>EJSynDelay</th>\n",
       "      <td>1.00</td>\n",
       "      <td>Delay in the gap junction</td>\n",
       "    </tr>\n",
       "    <tr>\n",
       "      <th>CHSynDelay</th>\n",
       "      <td>5.00</td>\n",
       "      <td>Delay in the chemical synapse</td>\n",
       "    </tr>\n",
       "    <tr>\n",
       "      <th>EJCoeff</th>\n",
       "      <td>0.50</td>\n",
       "      <td>Electrical synapse strength</td>\n",
       "    </tr>\n",
       "    <tr>\n",
       "      <th>CHCoeff</th>\n",
       "      <td>0.50</td>\n",
       "      <td>Chemical synapse strength</td>\n",
       "    </tr>\n",
       "    <tr>\n",
       "      <th>simRuntime</th>\n",
       "      <td>400.00</td>\n",
       "      <td>Simulation running time (duh)</td>\n",
       "    </tr>\n",
       "    <tr>\n",
       "      <th>propCoeff</th>\n",
       "      <td>2.85</td>\n",
       "      <td>propagation distance delay time</td>\n",
       "    </tr>\n",
       "    <tr>\n",
       "      <th>LeakyCoeff</th>\n",
       "      <td>0.98</td>\n",
       "      <td>leaky factorization coefficient</td>\n",
       "    </tr>\n",
       "  </tbody>\n",
       "</table>\n",
       "</div>"
      ],
      "text/plain": [
       "                    value                                    description\n",
       "defaultActivation    0.00                 activation value upon creation\n",
       "decayTime           20.00  The \"pulse width\" - the time the neuron is up\n",
       "EJSynDelay           1.00                      Delay in the gap junction\n",
       "CHSynDelay           5.00                  Delay in the chemical synapse\n",
       "EJCoeff              0.50                    Electrical synapse strength\n",
       "CHCoeff              0.50                      Chemical synapse strength\n",
       "simRuntime         400.00                  Simulation running time (duh)\n",
       "propCoeff            2.85               propagation distance delay time \n",
       "LeakyCoeff           0.98                leaky factorization coefficient"
      ]
     },
     "execution_count": 23,
     "metadata": {},
     "output_type": "execute_result"
    }
   ],
   "source": [
    "paramsDF = pd.read_csv(GLOBAL_PARAMSFILE, header=None, index_col=0, names = ['value', 'description']); paramsDF"
   ]
  },
  {
   "cell_type": "code",
   "execution_count": 24,
   "metadata": {
    "collapsed": true
   },
   "outputs": [],
   "source": [
    "def changeParams(defaultActivation=0.0, decayTime=20,EJSynDelay=15):\n",
    "    paramsDF.at['defaultActivation','value'] = defaultActivation\n",
    "    paramsDF.at['decayTime','value'] = decayTime\n",
    "    paramsDF.at['EJSynDelay','value'] = EJSynDelay\n",
    "    paramsDF.to_csv('C:\\Users\\hlapid\\Desktop\\\\test.csv',header=False);"
   ]
  },
  {
   "cell_type": "code",
   "execution_count": 25,
   "metadata": {
    "collapsed": false
   },
   "outputs": [],
   "source": [
    "interact(changeParams, defaultActivation=(-1.0,1.0,0.1), decayTime=(1,100), EJSynDelay=(1,100))"
   ]
  },
  {
   "cell_type": "code",
   "execution_count": null,
   "metadata": {
    "collapsed": true
   },
   "outputs": [],
   "source": []
  }
 ],
 "metadata": {
  "kernelspec": {
   "display_name": "Python 2",
   "language": "python",
   "name": "python2"
  },
  "language_info": {
   "codemirror_mode": {
    "name": "ipython",
    "version": 2
   },
   "file_extension": ".py",
   "mimetype": "text/x-python",
   "name": "python",
   "nbconvert_exporter": "python",
   "pygments_lexer": "ipython2",
   "version": "2.7.11"
  }
 },
 "nbformat": 4,
 "nbformat_minor": 0
}
